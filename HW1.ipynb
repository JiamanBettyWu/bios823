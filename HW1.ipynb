{
 "cells": [
  {
   "cell_type": "markdown",
   "metadata": {},
   "source": [
    "## Question 1\n",
    "\n",
    "**Problem 4: [Largest palindrome product](https://projecteuler.net/problem=4)**\n",
    "\n",
    "Solved by 489,906 people as of Sep 1, 2021.\n",
    "\n",
    "Question: \n",
    "\n",
    "A palindromic number reads the same both ways. The largest palindrome made from the product of two 2-digit numbers is 9009 = 91 × 99.\n",
    "Find the largest palindrome made from the product of two 3-digit numbers.\n"
   ]
  },
  {
   "cell_type": "code",
   "execution_count": 1,
   "metadata": {},
   "outputs": [],
   "source": [
    "def palindrome():\n",
    "    \n",
    "    \"\"\"Find the largest palindrome made from the product of two 3-digit numbers.\n",
    "    \n",
    "    Returns\n",
    "    -------\n",
    "    tuple\n",
    "    The first two elements of the tuple are the multiples.\n",
    "    The last element of the tuple is the product of the two multiples. It is also the final answer, \n",
    "    which is the largest palindrome made from the product of two 3-digit numbers.\n",
    "    \"\"\"\n",
    "    # initiate a tuple as placeholder to the resolution \n",
    "    pan = (0, 0, 0)\n",
    "    \n",
    "    # outer loop from 100 to 999, in decreasing order\n",
    "    for i in range(999, 100, -1):\n",
    "        \n",
    "        # inner loop from current outer loop to 100, in decreasing order\n",
    "        for j in range(i, 100, -1):\n",
    "            \n",
    "            # take the product \n",
    "            pro = i * j\n",
    "            \n",
    "            # check if the product is a palindrome\n",
    "            if str(pro) == str(pro)[::-1]:\n",
    "                \n",
    "                # replace the largest palindrome if the current palindrome is greater \n",
    "                if pro > pan[2]:\n",
    "                    pan = (i, j, pro)\n",
    "    return pan"
   ]
  },
  {
   "cell_type": "code",
   "execution_count": 2,
   "metadata": {},
   "outputs": [
    {
     "data": {
      "text/plain": [
       "(993, 913, 906609)"
      ]
     },
     "execution_count": 2,
     "metadata": {},
     "output_type": "execute_result"
    }
   ],
   "source": [
    "palindrome()"
   ]
  },
  {
   "cell_type": "markdown",
   "metadata": {},
   "source": [
    "## Question 2\n",
    "\n",
    "**Problem 34: [Digit factorials](https://projecteuler.net/problem=34)**\n",
    "\n",
    "Solved by 95,102 people as of Sep 1, 2021. \n",
    "\n",
    "Question:\n",
    "\n",
    "145 is a curious number, as 1! + 4! + 5! = 1 + 24 + 120 = 145. Find the sum of all numbers which are equal to the sum of the factorial of their digits. Note: As 1! = 1 and 2! = 2 are not sums they are not included.\n"
   ]
  },
  {
   "cell_type": "code",
   "execution_count": 3,
   "metadata": {},
   "outputs": [],
   "source": [
    "import math\n",
    "\n",
    "def factorials():\n",
    "    \n",
    "    \"\"\"Find the sum of all numbers which are equal to the sum of the factorial of their digits.\n",
    "    \n",
    "    Returns\n",
    "    -------\n",
    "    int\n",
    "    The sum of numbers which are equal to the sum of the factorial of their digits.\n",
    "    \"\"\"\n",
    "    \n",
    "    # pre-caculate factorials from 0-9\n",
    "    fact = [math.factorial(i) for i in range(0, 10)]  \n",
    "    \n",
    "    # initiate a list to append answers\n",
    "    res = []\n",
    "    \n",
    "    # set lower and upper bound \n",
    "    a = 3\n",
    "    b = 999999\n",
    "    \n",
    "    # loop through lower and upper bound \n",
    "    for n in range(a, b):\n",
    "        \n",
    "        # break n down to each digit\n",
    "        x = [int(d) for d in str(n)]\n",
    "        \n",
    "        # sum of the factorial for each digit\n",
    "        fsum = 0\n",
    "        for d in x:\n",
    "            fsum += fact[d]\n",
    "        \n",
    "        # append the current number to the solution list if the sum equals to the current number\n",
    "        if fsum == n:\n",
    "            res.append(n)\n",
    "    \n",
    "    summ = sum(res)\n",
    "    return summ\n",
    "    "
   ]
  },
  {
   "cell_type": "code",
   "execution_count": 4,
   "metadata": {},
   "outputs": [
    {
     "data": {
      "text/plain": [
       "40730"
      ]
     },
     "execution_count": 4,
     "metadata": {},
     "output_type": "execute_result"
    }
   ],
   "source": [
    "factorials()"
   ]
  },
  {
   "cell_type": "markdown",
   "metadata": {},
   "source": [
    "## Question 3\n",
    "\n",
    "**Problem 206: [Concealed Square](https://projecteuler.net/problem=206)**\n",
    "\n",
    "Solved by 24,160 people as of Sep 1, 2021.\n",
    "\n",
    "Question:\n",
    "\n",
    "Find the unique positive integer whose square has the form 1_2_3_4_5_6_7_8_9_0,\n",
    "where each “_” is a single digit."
   ]
  },
  {
   "cell_type": "code",
   "execution_count": 5,
   "metadata": {},
   "outputs": [],
   "source": [
    "import re\n",
    "\n",
    "def square(lower = 1010101010, upper = 1900000000):\n",
    "    \n",
    "    \"\"\"Find the unique positive integer whose square has the form 1_2_3_4_5_6_7_8_9_0, \n",
    "    where each “_” is a single digit.\n",
    "    \n",
    "    Parameters\n",
    "    ----------\n",
    "    lower : int\n",
    "            The lower bound for the search. The default is 1010101010.        \n",
    "    upper : int\n",
    "            The upper bound for the search. The default is 1900000000.\n",
    "    \n",
    "    Returns\n",
    "    -------\n",
    "    int\n",
    "    The interger whose square produces a number that takes the form 1_2_3_4_5_6_7_8_9_0.\n",
    "    \"\"\"\n",
    "    \n",
    "    # loop through lower and upper bound with 10 increment\n",
    "    for r in range(lower, upper, 10):\n",
    "        \n",
    "        # square the current number\n",
    "        r_sq = r ** 2\n",
    "        \n",
    "        # if the square matches the pattern, \n",
    "        # we have found the number\n",
    "        # then, we can stop searching\n",
    "        if bool(re.match(r'^1.2.3.4.5.6.7.8.9.0$', str(r_sq))):\n",
    "            # found the number, stop searching, and return the current number\n",
    "            break\n",
    "    return r"
   ]
  },
  {
   "cell_type": "code",
   "execution_count": 6,
   "metadata": {},
   "outputs": [
    {
     "data": {
      "text/plain": [
       "1389019170"
      ]
     },
     "execution_count": 6,
     "metadata": {},
     "output_type": "execute_result"
    }
   ],
   "source": [
    "square()"
   ]
  }
 ],
 "metadata": {
  "kernelspec": {
   "display_name": "Python 3",
   "language": "python",
   "name": "python3"
  },
  "language_info": {
   "codemirror_mode": {
    "name": "ipython",
    "version": 3
   },
   "file_extension": ".py",
   "mimetype": "text/x-python",
   "name": "python",
   "nbconvert_exporter": "python",
   "pygments_lexer": "ipython3",
   "version": "3.7.8"
  }
 },
 "nbformat": 4,
 "nbformat_minor": 4
}
