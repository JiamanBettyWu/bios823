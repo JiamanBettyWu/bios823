{
 "cells": [
  {
   "cell_type": "markdown",
   "id": "88db1787-854b-4409-ba63-2eb46f287808",
   "metadata": {},
   "source": [
    "2. Number theory and a Google recruitment puzzle\n",
    "\n",
    "Find the first 10-digit prime in the decimal expansion of 17π.\n",
    "\n",
    "The first 5 digits in the decimal expansion of π are 14159. The first 4-digit prime in the decimal expansion of π are 4159. You are asked to find the first 10-digit prime in the decimal expansion of 17π. First solve sub-problems (divide and conquer):\n",
    "\n",
    "- Write a function to generate an arbitrary large expansion of a mathematical expression like π. Hint: You can use the standard library decimal or the 3rd party library sympy to do this\n",
    "- Write a function to check if a number is prime. Hint: See Sieve of Eratosthenes\n",
    "- Write a function to generate sliding windows of a specified width from a long iterable (e.g. a string representation of a number)\n"
   ]
  },
  {
   "cell_type": "code",
   "execution_count": 1,
   "id": "2204036f-2bbd-4b03-aa42-ca62b55ade49",
   "metadata": {},
   "outputs": [],
   "source": [
    "import sympy as sym\n",
    "from math import sqrt"
   ]
  },
  {
   "cell_type": "code",
   "execution_count": 2,
   "id": "f1f42950-c571-49c0-953d-5b6990aa94b2",
   "metadata": {},
   "outputs": [],
   "source": [
    "def gen_expansion(n, prec):\n",
    "    \"\"\" Generate an arbitrary large decimal expansion for a mathematical expression.\n",
    "    \n",
    "    Parameters:\n",
    "    -----------\n",
    "    \n",
    "    n : SymPy expressions\n",
    "        An exact SymPy mathematical expression.\n",
    "    prec: int\n",
    "        Precision required.\n",
    "    \n",
    "    Returns\n",
    "    -------\n",
    "    str\n",
    "    A string of the decimal expansion with the specified precision.\n",
    "    \"\"\"\n",
    "    # check if the precision number makes sense\n",
    "    if prec <= 0:\n",
    "        raise TypeError(\"Precision should be an positive integer.\")\n",
    "    elif type(prec) != int:\n",
    "        raise AttributeError(\"Precision should be an positive integer.\")\n",
    "    \n",
    "    # obtain the math expression up to specified floating point precision\n",
    "    nf = n.evalf(prec)\n",
    "    \n",
    "    # get the decimal expansion by splitting \n",
    "    # only get the first halbf of the split\n",
    "    splited1, _ = str(nf).split('.')\n",
    "    \n",
    "    # check how many digits are to the left of .\n",
    "    # modified the precision value to get the exact precision value specified \n",
    "    prec2 = prec + len(splited1)\n",
    "    \n",
    "    # repeat the steps to obtain the number with updated precision\n",
    "    # return the str version of the floating number\n",
    "    return str(n.evalf(prec2)).split('.')[1]"
   ]
  },
  {
   "cell_type": "code",
   "execution_count": 3,
   "id": "a6e41626-c1e3-4fcb-a74b-c69e72b20710",
   "metadata": {},
   "outputs": [],
   "source": [
    "def is_prime(n):\n",
    "    \n",
    "    \"\"\" Check whether a number is a prime number.\n",
    "    \n",
    "    Parameters:\n",
    "    -----------\n",
    "    \n",
    "    n : int\n",
    "        The number to be checked for whether it is a prime number.\n",
    "    \n",
    "    Returns\n",
    "    -------\n",
    "    bool\n",
    "    Return True if it is a prime number, else, return False.\n",
    "    \"\"\"\n",
    "    if type(n) != int:\n",
    "        raise TypeError(\"Input must be a positive integer.\")\n",
    "    elif n < 0:\n",
    "        raise ValueError(\"Input must be a positive integer.\")\n",
    "    # initiate a flag to indicate whether a factor has found\n",
    "    flag = 0\n",
    "    \n",
    "    # special case: 0 and 1 are not prime number.\n",
    "    if (n == 0) | (n == 1):\n",
    "        flag = 1\n",
    "    \n",
    "    # iterate through all number between 2 and sqrt(n)\n",
    "    for i in range(2, int(sqrt(n)) + 1):\n",
    "        \n",
    "        # if a factor of n has been found\n",
    "        if (n%i == 0):\n",
    "            \n",
    "            # n is not a prime number - search if over\n",
    "            flag = 1\n",
    "            # break out the for loop \n",
    "            break\n",
    "            \n",
    "    # if a factor has found during the for-loop, return False for prime number         \n",
    "    if flag == 1:\n",
    "        return False\n",
    "    # else, number n is a prime number\n",
    "    else:\n",
    "        return True\n",
    "        "
   ]
  },
  {
   "cell_type": "code",
   "execution_count": 4,
   "id": "84463fd3-54b8-4981-a83a-1530713dbae8",
   "metadata": {},
   "outputs": [],
   "source": [
    "def sliding_window(seq, window_size):\n",
    "    \"\"\"\n",
    "    Generate sliding windows of a specified width from a long iterable.\n",
    "    \n",
    "    Parameters\n",
    "    ----------\n",
    "    seq : str\n",
    "            a string of number to be iterated.\n",
    "\n",
    "    window_size : int\n",
    "            Sliding window size.\n",
    "    \n",
    "    Returns\n",
    "    -------\n",
    "    List\n",
    "    Sliding window integers from the specified window size. Strings starts from 0 are removed.\n",
    "    \n",
    "    \"\"\"\n",
    "    \n",
    "    if type(seq) != str:\n",
    "        raise AttributeError(\"Input Sequence must be string type.\")\n",
    "    elif type(window_size) != int:\n",
    "        raise AttributeError(\"Window size must be int type.\")\n",
    "    elif window_size <=0:\n",
    "        raise ValueError(\"Window size must be a postive integer.\")\n",
    "    elif len(seq) < window_size:\n",
    "        raise ValueError(\"The sequence must be longer than the window size.\")\n",
    "    \n",
    "    # get the length of the large number.\n",
    "    # in this case, it is the precision specified in the previous function\n",
    "    prec = len(seq)\n",
    "    \n",
    "    # calculate the size of the list for all numbers after the sliding window \n",
    "    list_len = prec - window_size + 1\n",
    "    \n",
    "    # initiate a list with specified length\n",
    "    breaks = [None] * list_len\n",
    "    \n",
    "    # iterate through the initiated list\n",
    "    for s in range(0, list_len):\n",
    "        # update the end of indexing according to the window size\n",
    "        e = s + window_size\n",
    "        \n",
    "        # index the string \n",
    "        breaks[s] = seq[s:e]\n",
    "        \n",
    "    # remove any string that starts with 0 - not number with desired numbers of digits\n",
    "    windowed_l = [int(s) for s in breaks if s[0] != '0']\n",
    "    \n",
    "    return windowed_l"
   ]
  },
  {
   "cell_type": "code",
   "execution_count": 5,
   "id": "86160d09-debf-4e26-be04-fb0a96a4bb34",
   "metadata": {},
   "outputs": [
    {
     "data": {
      "text/plain": [
       "[1294, 2941]"
      ]
     },
     "execution_count": 5,
     "metadata": {},
     "output_type": "execute_result"
    }
   ],
   "source": [
    "sliding_window('12941', 4)"
   ]
  },
  {
   "cell_type": "code",
   "execution_count": 6,
   "id": "13775082-f308-4453-ad52-d8c6cb7a6975",
   "metadata": {},
   "outputs": [],
   "source": [
    "def main(n, prec, window_size):\n",
    "    \"\"\"Calls all sub-functions to produce the first 10-digit prime in the a mathematical expression.\n",
    "    \n",
    "    Parameters\n",
    "    ----------\n",
    "    n : \n",
    "        A mathematical expression to be evaluated.\n",
    "        \n",
    "    prec : int\n",
    "        Precision desired.\n",
    "    \n",
    "    window_size : int\n",
    "        Sliding window size.\n",
    "    \n",
    "    Returns\n",
    "    -------\n",
    "    int\n",
    "    The first 10-digit prime number.\n",
    "\n",
    "    \"\"\"\n",
    "    # get the decimal expansion\n",
    "    l_num = gen_expansion(n, prec)\n",
    "    \n",
    "    # get a list of sub-numbers with specified number of digit\n",
    "    window_list = sliding_window(l_num, window_size)\n",
    "    \n",
    "    # for each number in the list,\n",
    "    # check if it is a prime number \n",
    "    for w in window_list:\n",
    "        \n",
    "        # if prime number is found\n",
    "        if is_prime(w):\n",
    "            \n",
    "            # search is over - break out the loop\n",
    "            break\n",
    "    # return the number\n",
    "    return w"
   ]
  },
  {
   "cell_type": "code",
   "execution_count": 7,
   "id": "659fa4ce-ddd4-472a-92e8-c7280e613c97",
   "metadata": {},
   "outputs": [],
   "source": [
    "prec = 200\n",
    "window_size = 10"
   ]
  },
  {
   "cell_type": "code",
   "execution_count": 8,
   "id": "e61a5198-34ec-43bc-b01f-e1bd49c3fd64",
   "metadata": {},
   "outputs": [
    {
     "data": {
      "text/plain": [
       "7427466391"
      ]
     },
     "execution_count": 8,
     "metadata": {},
     "output_type": "execute_result"
    }
   ],
   "source": [
    "# n = sym.pi*17\n",
    "n = sym.exp(1)\n",
    "main(n, prec, window_size)"
   ]
  },
  {
   "cell_type": "code",
   "execution_count": 9,
   "id": "113f03b7-ff3c-4c8d-b740-5994fe680cb4",
   "metadata": {},
   "outputs": [
    {
     "data": {
      "text/latex": [
       "$\\displaystyle 3.141592654$"
      ],
      "text/plain": [
       "3.141592654"
      ]
     },
     "execution_count": 9,
     "metadata": {},
     "output_type": "execute_result"
    }
   ],
   "source": [
    "sym.pi.evalf(10)"
   ]
  },
  {
   "cell_type": "code",
   "execution_count": null,
   "id": "2b1fd0f3-34b0-4334-8ae2-4f9ea915971d",
   "metadata": {},
   "outputs": [],
   "source": []
  }
 ],
 "metadata": {
  "kernelspec": {
   "display_name": "Python 3 (ipykernel)",
   "language": "python",
   "name": "python3"
  },
  "language_info": {
   "codemirror_mode": {
    "name": "ipython",
    "version": 3
   },
   "file_extension": ".py",
   "mimetype": "text/x-python",
   "name": "python",
   "nbconvert_exporter": "python",
   "pygments_lexer": "ipython3",
   "version": "3.9.6"
  }
 },
 "nbformat": 4,
 "nbformat_minor": 5
}
